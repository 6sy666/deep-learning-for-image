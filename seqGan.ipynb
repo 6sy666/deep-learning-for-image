{
  "nbformat": 4,
  "nbformat_minor": 0,
  "metadata": {
    "colab": {
      "provenance": [],
      "collapsed_sections": [],
      "authorship_tag": "ABX9TyPe+fAKdTQV8WNpBw9Pl+5c",
      "include_colab_link": true
    },
    "kernelspec": {
      "name": "python3",
      "display_name": "Python 3"
    },
    "language_info": {
      "name": "python"
    },
    "gpuClass": "standard"
  },
  "cells": [
    {
      "cell_type": "markdown",
      "metadata": {
        "id": "view-in-github",
        "colab_type": "text"
      },
      "source": [
        "<a href=\"https://colab.research.google.com/github/6sy666/deep-learning-for-image/blob/main/seqGan.ipynb\" target=\"_parent\"><img src=\"https://colab.research.google.com/assets/colab-badge.svg\" alt=\"Open In Colab\"/></a>"
      ]
    },
    {
      "cell_type": "code",
      "execution_count": null,
      "metadata": {
        "id": "Vt2zfcuCMbrd",
        "colab": {
          "base_uri": "https://localhost:8080/"
        },
        "outputId": "a0d41c27-b5fe-4471-b9ea-b12f462e989a"
      },
      "outputs": [
        {
          "output_type": "stream",
          "name": "stdout",
          "text": [
            "Cloning into 'SeqGAN-PyTorch'...\n",
            "remote: Enumerating objects: 41, done.\u001b[K\n",
            "remote: Total 41 (delta 0), reused 0 (delta 0), pack-reused 41\u001b[K\n",
            "Unpacking objects: 100% (41/41), done.\n"
          ]
        }
      ],
      "source": [
        "!git clone https://github.com/ZiJianZhao/SeqGAN-PyTorch.git"
      ]
    },
    {
      "cell_type": "code",
      "source": [
        "!cd SeqGAN-PyTorch/\n"
      ],
      "metadata": {
        "id": "ipZu1xnWM1DS"
      },
      "execution_count": null,
      "outputs": []
    },
    {
      "cell_type": "code",
      "source": [
        "!python main.py\n"
      ],
      "metadata": {
        "colab": {
          "base_uri": "https://localhost:8080/"
        },
        "id": "7XKCtFLpNERp",
        "outputId": "4121f691-a315-4e6a-ac0f-74e6591cbe62"
      },
      "execution_count": null,
      "outputs": [
        {
          "output_type": "stream",
          "name": "stdout",
          "text": [
            "python3: can't open file 'main.py': [Errno 2] No such file or directory\n"
          ]
        }
      ]
    },
    {
      "cell_type": "code",
      "source": [
        "!cd SeqGAN-PyTorch/"
      ],
      "metadata": {
        "id": "R3BvDkbKNTdh"
      },
      "execution_count": null,
      "outputs": []
    },
    {
      "cell_type": "code",
      "source": [
        "!ls"
      ],
      "metadata": {
        "colab": {
          "base_uri": "https://localhost:8080/"
        },
        "id": "YxUzfNoVNbZD",
        "outputId": "c1c09cb6-475f-48d2-b1bc-524b53075717"
      },
      "execution_count": null,
      "outputs": [
        {
          "output_type": "stream",
          "name": "stdout",
          "text": [
            "sample_data  SeqGAN-PyTorch\n"
          ]
        }
      ]
    },
    {
      "cell_type": "code",
      "source": [
        "!cd SeqGAN-PyTorch/ && python main.py "
      ],
      "metadata": {
        "id": "wKdZXOgHNdlW"
      },
      "execution_count": null,
      "outputs": []
    },
    {
      "cell_type": "code",
      "source": [
        "!navid -smi"
      ],
      "metadata": {
        "id": "AEUKt3E7Njmn"
      },
      "execution_count": null,
      "outputs": []
    },
    {
      "cell_type": "code",
      "source": [
        "!nvidia-smi"
      ],
      "metadata": {
        "id": "5B0hMOypO48T"
      },
      "execution_count": null,
      "outputs": []
    },
    {
      "cell_type": "code",
      "source": [],
      "metadata": {
        "id": "1BfTE3hLPD0Q"
      },
      "execution_count": null,
      "outputs": []
    }
  ]
}